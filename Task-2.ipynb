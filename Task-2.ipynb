{
 "cells": [
  {
   "cell_type": "code",
   "execution_count": 1,
   "metadata": {},
   "outputs": [],
   "source": [
    "import PIL \n",
    "import numpy as np"
   ]
  },
  {
   "cell_type": "code",
   "execution_count": 2,
   "metadata": {},
   "outputs": [
    {
     "name": "stdout",
     "output_type": "stream",
     "text": [
      "(954, 960)\n",
      "(2289, 2289)\n"
     ]
    }
   ],
   "source": [
    "from PIL import Image \n",
    "\n",
    "\n",
    " \n",
    "img1 = Image.open('myPic.jpg') \n",
    "img2 = Image.open('myPic2.jpg') \n",
    "\n",
    "# summarize some details about the image \n",
    "print(img1.size) \n",
    "print(img2.size)"
   ]
  },
  {
   "cell_type": "code",
   "execution_count": 3,
   "metadata": {},
   "outputs": [
    {
     "name": "stdout",
     "output_type": "stream",
     "text": [
      "(960, 954, 3)\n",
      "(2289, 2289, 3)\n"
     ]
    }
   ],
   "source": [
    "numpydata1 = np.asarray(img1) \n",
    "numpydata2 = np.asarray(img2) \n",
    "\n",
    "print(numpydata1.shape) \n",
    "print(numpydata2.shape) \n"
   ]
  },
  {
   "cell_type": "code",
   "execution_count": 7,
   "metadata": {},
   "outputs": [
    {
     "name": "stdout",
     "output_type": "stream",
     "text": [
      "(500, 900, 3)\n",
      "(500, 900, 3)\n"
     ]
    }
   ],
   "source": [
    "new1 = numpydata1[0:500, :900]\n",
    "new2 = numpydata2[0:500, :900]\n",
    "print(new1.shape)\n",
    "print(new2.shape)\n"
   ]
  },
  {
   "cell_type": "code",
   "execution_count": 10,
   "metadata": {},
   "outputs": [
    {
     "name": "stdout",
     "output_type": "stream",
     "text": [
      "(1000, 900, 3)\n"
     ]
    }
   ],
   "source": [
    "ab = np.concatenate((new1, new2), axis=0)\n",
    "print(ab.shape)"
   ]
  },
  {
   "cell_type": "code",
   "execution_count": 11,
   "metadata": {},
   "outputs": [],
   "source": [
    "image = Image.fromarray(ab) \n",
    "  \n",
    "# Display image \n",
    "image.show() "
   ]
  },
  {
   "cell_type": "code",
   "execution_count": null,
   "metadata": {},
   "outputs": [],
   "source": []
  }
 ],
 "metadata": {
  "kernelspec": {
   "display_name": "Python 3",
   "language": "python",
   "name": "python3"
  },
  "language_info": {
   "codemirror_mode": {
    "name": "ipython",
    "version": 3
   },
   "file_extension": ".py",
   "mimetype": "text/x-python",
   "name": "python",
   "nbconvert_exporter": "python",
   "pygments_lexer": "ipython3",
   "version": "3.8.5"
  }
 },
 "nbformat": 4,
 "nbformat_minor": 4
}
