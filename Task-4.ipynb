{
 "cells": [
  {
   "cell_type": "code",
   "execution_count": 1,
   "metadata": {},
   "outputs": [],
   "source": [
    "import PIL \n",
    "import numpy as np"
   ]
  },
  {
   "cell_type": "code",
   "execution_count": 6,
   "metadata": {},
   "outputs": [],
   "source": [
    "from PIL import Image \n",
    "\n"
   ]
  },
  {
   "cell_type": "code",
   "execution_count": 3,
   "metadata": {},
   "outputs": [],
   "source": [
    "# Assuming the image has channels as the last dimension.\n",
    "# filter.shape -> (kernel_size, kernel_size, channels)\n",
    "# image.shape -> (width, height, channels)\n",
    "def convolve(image, filter, padding = (1, 1)):\n",
    "    # For this to work neatly, filter and image should have the same number of channels\n",
    "    # Alternatively, filter could have just 1 channel or 2 dimensions\n",
    "    \n",
    "    if(image.ndim == 2):\n",
    "        image = np.expand_dims(image, axis=-1) # Convert 2D grayscale images to 3D\n",
    "    if(filter.ndim == 2):\n",
    "        filter = np.repeat(np.expand_dims(filter, axis=-1), image.shape[-1], axis=-1) # Same with filters\n",
    "    if(filter.shape[-1] == 1):\n",
    "        filter = np.repeat(filter, image.shape[-1], axis=-1) # Give filter the same channel count as the image\n",
    "    \n",
    "    #print(filter.shape, image.shape)\n",
    "    assert image.shape[-1] == filter.shape[-1]\n",
    "    size_x, size_y = filter.shape[:2]\n",
    "    width, height = image.shape[:2]\n",
    "    \n",
    "    output_array = np.zeros(((width - size_x + 2*padding[0]) + 1, \n",
    "                             (height - size_y + 2*padding[1]) + 1,\n",
    "                             image.shape[-1])) # Convolution Output: [(W−K+2P)/S]+1\n",
    "    \n",
    "    padded_image = np.pad(image, [\n",
    "        (padding[0], padding[0]),\n",
    "        (padding[1], padding[1]),\n",
    "        (0, 0)\n",
    "    ])\n",
    "    \n",
    "    for x in range(padded_image.shape[0] - size_x + 1): # -size_x + 1 is to keep the window within the bounds of the image\n",
    "        for y in range(padded_image.shape[1] - size_y + 1):\n",
    "\n",
    "            # Creates the window with the same size as the filter\n",
    "            window = padded_image[x:x + size_x, y:y + size_y]\n",
    "\n",
    "            # Sums over the product of the filter and the window\n",
    "            output_values = np.sum(filter * window, axis=(0, 1)) \n",
    "\n",
    "            # Places the calculated value into the output_array\n",
    "            output_array[x, y] = output_values\n",
    "            \n",
    "    return output_array"
   ]
  },
  {
   "cell_type": "code",
   "execution_count": 5,
   "metadata": {},
   "outputs": [],
   "source": [
    "filter = np.array([\n",
    "    [-1, 0, 1],\n",
    "    [-1, 0, 1],\n",
    "    [-1, 0, 1]\n",
    "], dtype=np.float32)/9.0 # Box Filter\n",
    "\n",
    "image = Image.open('myPic.jpg')\n",
    "image_arr = np.array(image)/255.0\n",
    "\n",
    "convolved_arr = convolve(image_arr, filter, padding=(1, 1))\n",
    "convolved = Image.fromarray(np.uint8(255 * convolved_arr), 'RGB') # Convolved Image\n",
    "convolved.show()"
   ]
  },
  {
   "cell_type": "code",
   "execution_count": 7,
   "metadata": {},
   "outputs": [],
   "source": [
    "from PIL import Image \n",
    " \n",
    "  \n",
    "img = Image.open(\"myPic2.jpg\") \n",
    " \n",
    "rotate_img= img.rotate(45)\n",
    " \n",
    "rotate_img.show() "
   ]
  },
  {
   "cell_type": "code",
   "execution_count": 9,
   "metadata": {},
   "outputs": [],
   "source": [
    "filter = np.array([\n",
    "    [np.cos(45), np.sin(45), 0],\n",
    "    [-np.sin(45), np.cos(45), 0],\n",
    "    [0, 0, 1]\n",
    "], dtype=np.float32)/9.0 # Box Filter\n",
    "\n",
    "image = Image.open('myPic2.jpg')\n",
    "image_arr = np.array(image)/255.0\n",
    "\n",
    "convolved_arr = convolve(image_arr, filter, padding=(1, 1))\n",
    "convolved = Image.fromarray(np.uint8(255 * convolved_arr), 'RGB') # Convolved Image\n",
    "convolved.show()"
   ]
  },
  {
   "cell_type": "code",
   "execution_count": 12,
   "metadata": {},
   "outputs": [],
   "source": [
    "filter = np.array([\n",
    "    [1.0,2.0,1.0],\n",
    "    [2.0,4.0,2.0], \n",
    "    [1.0,2.0,1.0]\n",
    "], dtype=np.float32)/9.0 # Box Filter\n",
    "\n",
    "image = Image.open('myPic.jpg')\n",
    "image_arr = np.array(image)/255.0\n",
    "\n",
    "convolved_arr = convolve(image_arr, filter, padding=(1, 1))\n",
    "convolved = Image.fromarray(np.uint8(255 * convolved_arr), 'RGB') # Convolved Image\n",
    "convolved.show()"
   ]
  },
  {
   "cell_type": "code",
   "execution_count": null,
   "metadata": {},
   "outputs": [],
   "source": []
  }
 ],
 "metadata": {
  "kernelspec": {
   "display_name": "Python 3",
   "language": "python",
   "name": "python3"
  },
  "language_info": {
   "codemirror_mode": {
    "name": "ipython",
    "version": 3
   },
   "file_extension": ".py",
   "mimetype": "text/x-python",
   "name": "python",
   "nbconvert_exporter": "python",
   "pygments_lexer": "ipython3",
   "version": "3.8.5"
  }
 },
 "nbformat": 4,
 "nbformat_minor": 4
}
