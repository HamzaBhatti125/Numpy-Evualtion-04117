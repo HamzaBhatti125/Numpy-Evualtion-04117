{
 "cells": [
  {
   "cell_type": "code",
   "execution_count": 4,
   "metadata": {},
   "outputs": [
    {
     "name": "stdout",
     "output_type": "stream",
     "text": [
      "Installed Pillow Version: 8.0.1\n"
     ]
    }
   ],
   "source": [
    "import PIL \n",
    "import numpy as np\n",
    "  \n",
    "print('Installed Pillow Version:', PIL.__version__)"
   ]
  },
  {
   "cell_type": "code",
   "execution_count": 25,
   "metadata": {},
   "outputs": [
    {
     "name": "stdout",
     "output_type": "stream",
     "text": [
      "JPEG\n",
      "(2289, 2289)\n",
      "RGB\n"
     ]
    }
   ],
   "source": [
    "from PIL import Image \n",
    "\n",
    "\n",
    "# sample.png is the name of the image \n",
    "# file and assuming that it is uploaded \n",
    "# in the current directory or we need \n",
    "# to give the path \n",
    "#image = Image.open('myPic.jpg') \n",
    "image = Image.open('myPic2.jpg') \n",
    "\n",
    "# summarize some details about the image \n",
    "print(image.format) \n",
    "print(image.size) \n",
    "print(image.mode)\n"
   ]
  },
  {
   "cell_type": "code",
   "execution_count": 26,
   "metadata": {},
   "outputs": [
    {
     "name": "stdout",
     "output_type": "stream",
     "text": [
      "<class 'numpy.ndarray'>\n",
      "(2289, 2289, 3)\n"
     ]
    }
   ],
   "source": [
    "# load the image and convert into \n",
    "# asarray() class is used to convert \n",
    "# PIL images into NumPy arrays \n",
    "numpydata = np.asarray(image) \n",
    "\n",
    "# <class 'numpy.ndarray'> \n",
    "print(type(numpydata)) \n",
    "\n",
    "# shape \n",
    "print(numpydata.shape) \n"
   ]
  },
  {
   "cell_type": "code",
   "execution_count": 23,
   "metadata": {},
   "outputs": [
    {
     "name": "stdout",
     "output_type": "stream",
     "text": [
      "(500, 500, 3)\n"
     ]
    }
   ],
   "source": [
    "#image_arr = numpydata[380:880, 238:738] \n",
    "image_arr = numpydata[380:880, 238:738] \n",
    "image_arr\n",
    "print(image_arr.shape)"
   ]
  },
  {
   "cell_type": "code",
   "execution_count": null,
   "metadata": {},
   "outputs": [],
   "source": []
  },
  {
   "cell_type": "code",
   "execution_count": 24,
   "metadata": {},
   "outputs": [],
   "source": [
    "image = Image.fromarray(image_arr) \n",
    "  \n",
    "# Display image \n",
    "image.show() "
   ]
  },
  {
   "cell_type": "code",
   "execution_count": null,
   "metadata": {},
   "outputs": [],
   "source": []
  }
 ],
 "metadata": {
  "kernelspec": {
   "display_name": "Python 3",
   "language": "python",
   "name": "python3"
  },
  "language_info": {
   "codemirror_mode": {
    "name": "ipython",
    "version": 3
   },
   "file_extension": ".py",
   "mimetype": "text/x-python",
   "name": "python",
   "nbconvert_exporter": "python",
   "pygments_lexer": "ipython3",
   "version": "3.8.5"
  }
 },
 "nbformat": 4,
 "nbformat_minor": 4
}
